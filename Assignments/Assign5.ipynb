{
 "cells": [
  {
   "cell_type": "markdown",
   "metadata": {},
   "source": [
    "Assignment 5\n",
    "\n",
    "## GitHub User Name: aton-physics\n",
    "\n",
    "## Email: andrew_ton@brown.edu\n"
   ]
  },
  {
   "cell_type": "markdown",
   "metadata": {},
   "source": [
    "## Problem 1\n",
    "Simulate a random walk in three dimensions allowing the walker to make steps of unit\n",
    "length in random directions; don’t restrict the walker to sites on a discrete lattice i.e let\n",
    "the angle defining the step direction vary continuously between [−π/2, π/2]. Show that\n",
    "the motion is diffusive, i.e. $\\langle r^2\\rangle$ ∝ t. Find the value of the proportionality constant."
   ]
  },
  {
   "cell_type": "code",
   "execution_count": 1,
   "metadata": {},
   "outputs": [],
   "source": [
    "%matplotlib inline\n",
    "import numpy as np\n",
    "import matplotlib.pyplot as plt\n",
    "\n",
    "# we will use numba again\n",
    "from numba import jit\n",
    "import matplotlib.cm as cm"
   ]
  },
  {
   "cell_type": "code",
   "execution_count": 69,
   "metadata": {},
   "outputs": [],
   "source": [
    "from random import gauss\n",
    "\n",
    "def make_rand_vector(dims=3):\n",
    "    vec = [gauss(0, 1) for i in range(dims)]\n",
    "    mag = sum(x**2 for x in vec) ** .5\n",
    "    return [x/mag for x in vec]\n",
    "\n",
    "def make_rand_array(length): #unit vector of a certain length\n",
    "    dirx = np.zeros(length)\n",
    "    diry = dirx\n",
    "    dirz = dirx\n",
    "    for i in range(length):\n",
    "        vec = make_rand_vector(3)\n",
    "        dirx[i] = vec[0]\n",
    "        diry[i] = vec[1]\n",
    "        dirz[i] = vec[2]\n",
    "    return dirx, diry, dirz\n",
    "\n",
    "def randwalk(nsteps = 100, nsamples = 1000):\n",
    "    nsteps = int(nsteps)\n",
    "    nsamples = int(nsamples)\n",
    "    rms = np.zeros(nsteps)\n",
    "    trajectories = np.zeros([nsamples, nsteps])\n",
    "    #for ii in range nsamples:\n",
    "        \n",
    "    #to do the task, the hint is that the rng can return arrays too\n",
    "    x0 = 2*np.random.randint(0,1+1,(nsamples,nsteps-1)) - 1\n",
    "    y0 = 2*np.random.randint(0,1+1,(nsamples,nsteps-1)) - 1\n",
    "    z0 = 2*np.random.randint(0,1+1,(nsamples,nsteps-1)) - 1\n",
    "    x0 = np.insert(x0,0,0,axis=1)\n",
    "    y0 = np.insert(y0,0,0,axis=1)\n",
    "    z0 = np.insert(z0,0,0,axis=1)\n",
    "    dirx = np.zeros(len(x0)*len(x0[0]))\n",
    "    diry = dirx\n",
    "    dirz = dirx\n",
    "    dirx, diry, dirz = make_rand_array(len(x0)*len(x0[0]))\n",
    "    dirx = np.reshape(dirx, [nsamples,nsteps])\n",
    "    diry = np.reshape(diry, [nsamples,nsteps])\n",
    "    dirz = np.reshape(dirz, [nsamples,nsteps])\n",
    "    np.multiply(x0, dirx)\n",
    "    np.multiply(y0, diry)\n",
    "    np.multiply(z0, dirz)\n",
    "\n",
    "    traj = np.cumsum(x0,axis=1) + np.cumsum(y0,axis=1) + np.cumsum(z0,axis=1)\n",
    "    rms = np.sum(traj**2,axis=0)\n",
    "    return rms/nsamples, traj\n",
    "\n"
   ]
  },
  {
   "cell_type": "code",
   "execution_count": 70,
   "metadata": {},
   "outputs": [],
   "source": [
    "#%%timeit   # run some timing routines on the current cell, only uncomment for testing purposes, se\n",
    "#871 +- 5 ms for python for-loop\n",
    "#331 +- 3 ms for np loops\n",
    "nsteps = 500\n",
    "nsamples = 2e3\n",
    "rms, trajectories = randwalk(nsteps, nsamples)"
   ]
  },
  {
   "cell_type": "code",
   "execution_count": null,
   "metadata": {},
   "outputs": [],
   "source": [
    "# function to make a straight line\n",
    "# lambda is a special constructor to create functions on the fly\n",
    "linear = lambda D, x : 2*D*x\n",
    "\n",
    "# the above could also be written as \n",
    "# def linear(D,x):\n",
    "#    return 2*D*x\n",
    "\n",
    "steps = np.arange(len(rms))\n",
    "nsteps = 500\n",
    "nsamples = 2e4\n",
    "rms, trajectories = randwalk(nsteps, nsamples)\n"
   ]
  },
  {
   "cell_type": "code",
   "execution_count": 93,
   "metadata": {},
   "outputs": [
    {
     "data": {
      "image/png": "[encoded data removed]",
      "text/plain": [
       "<Figure size 576x288 with 1 Axes>"
      ]
     },
     "metadata": {
      "needs_background": "light"
     },
     "output_type": "display_data"
    },
    {
     "name": "stdout",
     "output_type": "stream",
     "text": [
      "The value of the proportionality constant is:  0.335513343448 σ^2/τ\n"
     ]
    }
   ],
   "source": [
    "fig = plt.figure(figsize = (8,4))\n",
    "ax2 = fig.add_subplot(122)\n",
    "ax2.plot(rms, 'o')\n",
    "\n",
    "\n",
    "ax2.set_xlabel(r'$t/\\tau$', fontsize =14)\n",
    "ax2.set_ylabel('$<x^2>/\\sigma^2$', fontsize = 14)\n",
    "\n",
    "fig.subplots_adjust(left = 0.12,right = 0.96, bottom = 0.14, top = 0.86,wspace =0.45, hspace = 0.35)\n",
    "\n",
    "plt.show()\n",
    "\n",
    "from scipy.optimize import curve_fit\n",
    "\n",
    "def f(x, A, B): #  'straight line' y=f(x)\n",
    "    return A*x + B\n",
    "\n",
    "A,B = curve_fit(f, rms, np.arange(0,nsteps))[0] # your data x, y to fit\n",
    "print(\"The value of the proportionality constant is: \", A, 'σ^2/τ')\n"
   ]
  },
  {
   "cell_type": "markdown",
   "metadata": {},
   "source": [
    "Here the step number is taken to be $\\tau$ with units of time, and the length of each step is taken to be $\\sigma$.\n",
    "\n",
    "It is clear that the graph is linear in $\\frac{t}{\\tau}$."
   ]
  },
  {
   "cell_type": "markdown",
   "metadata": {},
   "source": [
    "## Problem 2\n",
    "\n",
    "Simulate an ensemble of random walkers in two dimensions, constrained to a 100 by\n",
    "100 square lattice, and starting with an initial distribution in which all of the particles\n",
    "are near the center. Let one of the walls of the container have a small hole of 10\n",
    "units in length along the edge through which particles can leave the container. Once a\n",
    "particle has left the container, it cannot reenter. Calculate the number of particles in\n",
    "the container as a function of time and show that it varies as $\\exp(−t/τ)$, where τ is\n",
    "an effective time constant for the escape time."
   ]
  },
  {
   "cell_type": "markdown",
   "metadata": {},
   "source": [
    "## Problem 3\n",
    "\n",
    "Calculate the integral"
   ]
  }
 ],
 "metadata": {
  "kernelspec": {
   "display_name": "Python 3",
   "language": "python",
   "name": "python3"
  },
  "language_info": {
   "codemirror_mode": {
    "name": "ipython",
    "version": 3
   },
   "file_extension": ".py",
   "mimetype": "text/x-python",
   "name": "python",
   "nbconvert_exporter": "python",
   "pygments_lexer": "ipython3",
   "version": "3.6.7"
  }
 },
 "nbformat": 4,
 "nbformat_minor": 2
}
