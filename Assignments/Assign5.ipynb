{
 "cells": [
  {
   "cell_type": "markdown",
   "metadata": {},
   "source": [
    "Assignment 5\n",
    "\n",
    "## GitHub User Name: aton-physics\n",
    "\n",
    "## Email: andrew_ton@brown.edu\n"
   ]
  },
  {
   "cell_type": "markdown",
   "metadata": {},
   "source": [
    "## Problem 1\n",
    "Simulate a random walk in three dimensions allowing the walker to make steps of unit\n",
    "length in random directions; don’t restrict the walker to sites on a discrete lattice i.e let\n",
    "the angle defining the step direction vary continuously between [−π/2, π/2]. Show that\n",
    "the motion is diffusive, i.e. $\\langle r^2\\rangle$ ∝ t. Find the value of the proportionality constant."
   ]
  },
  {
   "cell_type": "code",
   "execution_count": 1,
   "metadata": {},
   "outputs": [],
   "source": [
    "%matplotlib inline\n",
    "import numpy as np\n",
    "import matplotlib.pyplot as plt\n",
    "\n",
    "# we will use numba again\n",
    "from numba import jit\n",
    "import matplotlib.cm as cm"
   ]
  },
  {
   "cell_type": "code",
   "execution_count": 69,
   "metadata": {},
   "outputs": [],
   "source": [
    "from random import gauss\n",
    "\n",
    "def make_rand_vector(dims=3):\n",
    "    vec = [gauss(0, 1) for i in range(dims)]\n",
    "    mag = sum(x**2 for x in vec) ** .5\n",
    "    return [x/mag for x in vec]\n",
    "\n",
    "def make_rand_array(length): #unit vector of a certain length\n",
    "    dirx = np.zeros(length)\n",
    "    diry = dirx\n",
    "    dirz = dirx\n",
    "    for i in range(length):\n",
    "        vec = make_rand_vector(3)\n",
    "        dirx[i] = vec[0]\n",
    "        diry[i] = vec[1]\n",
    "        dirz[i] = vec[2]\n",
    "    return dirx, diry, dirz\n",
    "\n",
    "def randwalk(nsteps = 100, nsamples = 1000):\n",
    "    nsteps = int(nsteps)\n",
    "    nsamples = int(nsamples)\n",
    "    rms = np.zeros(nsteps)\n",
    "    trajectories = np.zeros([nsamples, nsteps])\n",
    "    #for ii in range nsamples:\n",
    "        \n",
    "    #to do the task, the hint is that the rng can return arrays too\n",
    "    x0 = 2*np.random.randint(0,1+1,(nsamples,nsteps-1)) - 1\n",
    "    y0 = 2*np.random.randint(0,1+1,(nsamples,nsteps-1)) - 1\n",
    "    z0 = 2*np.random.randint(0,1+1,(nsamples,nsteps-1)) - 1\n",
    "    x0 = np.insert(x0,0,0,axis=1)\n",
    "    y0 = np.insert(y0,0,0,axis=1)\n",
    "    z0 = np.insert(z0,0,0,axis=1)\n",
    "    dirx = np.zeros(len(x0)*len(x0[0]))\n",
    "    diry = dirx\n",
    "    dirz = dirx\n",
    "    dirx, diry, dirz = make_rand_array(len(x0)*len(x0[0]))\n",
    "    dirx = np.reshape(dirx, [nsamples,nsteps])\n",
    "    diry = np.reshape(diry, [nsamples,nsteps])\n",
    "    dirz = np.reshape(dirz, [nsamples,nsteps])\n",
    "    np.multiply(x0, dirx)\n",
    "    np.multiply(y0, diry)\n",
    "    np.multiply(z0, dirz)\n",
    "\n",
    "    traj = np.cumsum(x0,axis=1) + np.cumsum(y0,axis=1) + np.cumsum(z0,axis=1)\n",
    "    rms = np.sum(traj**2,axis=0)\n",
    "    return rms/nsamples, traj\n",
    "\n"
   ]
  },
  {
   "cell_type": "code",
   "execution_count": 70,
   "metadata": {},
   "outputs": [],
   "source": [
    "#%%timeit   # run some timing routines on the current cell, only uncomment for testing purposes, se\n",
    "#871 +- 5 ms for python for-loop\n",
    "#331 +- 3 ms for np loops\n",
    "nsteps = 500\n",
    "nsamples = 2e3\n",
    "rms, trajectories = randwalk(nsteps, nsamples)"
   ]
  },
  {
   "cell_type": "code",
   "execution_count": null,
   "metadata": {},
   "outputs": [],
   "source": [
    "# function to make a straight line\n",
    "# lambda is a special constructor to create functions on the fly\n",
    "linear = lambda D, x : 2*D*x\n",
    "\n",
    "# the above could also be written as \n",
    "# def linear(D,x):\n",
    "#    return 2*D*x\n",
    "\n",
    "steps = np.arange(len(rms))\n",
    "nsteps = 500\n",
    "nsamples = 2e4\n",
    "rms, trajectories = randwalk(nsteps, nsamples)\n"
   ]
  },
  {
   "cell_type": "code",
   "execution_count": 139,
   "metadata": {},
   "outputs": [
    {
     "data": {
      "image/png": "[encoded data removed]",
      "text/plain": [
       "<Figure size 576x288 with 1 Axes>"
      ]
     },
     "metadata": {
      "needs_background": "light"
     },
     "output_type": "display_data"
    },
    {
     "name": "stdout",
     "output_type": "stream",
     "text": [
      "The value of the proportionality constant is:  0.335513343448 σ^2/τ\n"
     ]
    }
   ],
   "source": [
    "fig = plt.figure(figsize = (8,4))\n",
    "ax2 = fig.add_subplot(122)\n",
    "ax2.plot(rms, 'o')\n",
    "\n",
    "ax2.set_xlabel(r'$t/\\tau$', fontsize =14)\n",
    "ax2.set_ylabel('$<x^2>/\\sigma^2$', fontsize = 14)\n",
    "\n",
    "fig.subplots_adjust(left = 0.12,right = 0.96, bottom = 0.14, top = 0.86,wspace =0.45, hspace = 0.35)\n",
    "plt.show()\n",
    "\n",
    "from scipy.optimize import curve_fit\n",
    "\n",
    "def f(x, A, B): #  'straight line' y=f(x)\n",
    "    return A*x + B\n",
    "\n",
    "A,B = curve_fit(f, rms, np.arange(0,nsteps))[0] # your data x, y to fit\n",
    "print(\"The value of the proportionality constant is: \", A, 'σ^2/τ')\n"
   ]
  },
  {
   "cell_type": "markdown",
   "metadata": {},
   "source": [
    "Here the step number is taken to be $\\tau$ with units of time, and the length of each step is taken to be $\\sigma$.\n",
    "\n",
    "It is clear that the graph is linear in $\\frac{t}{\\tau}$."
   ]
  },
  {
   "cell_type": "markdown",
   "metadata": {},
   "source": [
    "## Problem 2\n",
    "\n",
    "Simulate an ensemble of random walkers in two dimensions, constrained to a 100 by\n",
    "100 square lattice, and starting with an initial distribution in which all of the particles\n",
    "are near the center. Let one of the walls of the container have a small hole of 10\n",
    "units in length along the edge through which particles can leave the container. Once a\n",
    "particle has left the container, it cannot reenter. Calculate the number of particles in\n",
    "the container as a function of time and show that it varies as $\\exp(−t/τ)$, where τ is\n",
    "an effective time constant for the escape time."
   ]
  },
  {
   "cell_type": "code",
   "execution_count": 118,
   "metadata": {},
   "outputs": [],
   "source": [
    "@jit(nopython=True)\n",
    "def step_2d():\n",
    "    # step for random walk on 2D square lattice\n",
    "    d = np.random.randint(1,5) #2d => need 4 numbers\n",
    "    if d == 1:\n",
    "        x_s, y_s = 1, 0\n",
    "    if d == 2:\n",
    "        x_s, y_s = 0, 1\n",
    "    if d == 3:\n",
    "        x_s, y_s = -1, 0\n",
    "    if d == 4:\n",
    "        x_s, y_s = 0, -1\n",
    "    return [x_s, y_s]\n",
    "\n",
    "\n",
    "@jit(nopython=True)\n",
    "def randwalk_2d(nsteps, wall = 1e6):#set up x and y coordinates\n",
    "   # trajectory for a single 2D random walk\n",
    "    x = np.zeros(nsteps+1, np.double)\n",
    "    y = np.zeros(nsteps+1, np.double)\n",
    "    NumWalkers = np.zeros(nsteps+1)\n",
    "    for i in range(nsteps):\n",
    "        s = step_2d()\n",
    "        x[i+1] = x[i] + s[0]\n",
    "        if abs(x[i+1]) > wall:\n",
    "            x[i+1] = x[i] #check if inside or outside of box\n",
    "            if abs(y[i+1]) < 5: \n",
    "                #small hole that particles can escape through\n",
    "                return 1, i+1\n",
    "        y[i+1] = y[i] + s[1]\n",
    "        if abs(y[i+1]) > wall: \n",
    "            y[i+1] = y[i]\n",
    "        \n",
    "    #return x, y \n",
    "    return 0, 0\n",
    "\n",
    "@jit(nopython=True)\n",
    "def ensemble_2d(N,t_max, wall = 1e6):#collect many together\n",
    "    #generate an ensemble or random walkers\n",
    "    xh = np.zeros(N, np.double)\n",
    "    yh = np.zeros(N, np.double)\n",
    "    \n",
    "    NumWalkers = N\n",
    "    \n",
    "    exit_times = np.zeros(N)\n",
    "\n",
    "    for i in range(N):\n",
    "        x, y = randwalk_2d(t_max, wall)\n",
    "        if x:\n",
    "            exit_times[i] = y\n",
    "        #xh[i] = x[-1]\n",
    "        #yh[i] = y[-1]\n",
    "\n",
    "    #return xh, yh\n",
    "    return exit_times\n",
    "\n"
   ]
  },
  {
   "cell_type": "code",
   "execution_count": 131,
   "metadata": {},
   "outputs": [],
   "source": [
    "t=10000\n",
    "N=5000\n",
    "exit_times = ensemble_2d(N, t_max = t,wall =50)\n",
    "Counter = np.full(t, N)\n",
    "for i in range(N):\n",
    "    ExitTime = int(exit_times[i])\n",
    "    if ExitTime > 0:\n",
    "        Counter[ExitTime:t] -= 1 #subtract a particle if it exited\n"
   ]
  },
  {
   "cell_type": "code",
   "execution_count": 164,
   "metadata": {},
   "outputs": [
    {
     "data": {
      "image/png": "[encoded data removed]",
      "text/plain": [
       "<Figure size 576x288 with 1 Axes>"
      ]
     },
     "metadata": {
      "needs_background": "light"
     },
     "output_type": "display_data"
    },
    {
     "data": {
      "image/png": "[encoded data removed]",
      "text/plain": [
       "<Figure size 576x288 with 1 Axes>"
      ]
     },
     "metadata": {
      "needs_background": "light"
     },
     "output_type": "display_data"
    }
   ],
   "source": [
    "t = 10000\n",
    "fig = plt.figure(figsize = (8,4))\n",
    "ax2 = fig.add_subplot(122)\n",
    "ax2.plot(Counter, 'o')\n",
    "fig2 = plt.figure(figsize=(8,4))\n",
    "ax1 = fig2.add_subplot(111)\n",
    "time=np.linspace(0,3.5)\n",
    "f = np.exp(-time)\n",
    "ax1.plot(time,f,'-',label=\"exponential\")\n",
    "plt.legend()\n",
    "ax1.set_xlabel(\"x (dimensionless)\")\n",
    "ax1.set_ylabel(\"y = exp[-x]\")\n",
    "\n",
    "ax2.set_xlabel(\"time (sec)\", fontsize =14)\n",
    "ax2.set_ylabel(\"Number of particles in box\", fontsize = 14)\n",
    "\n",
    "fig.subplots_adjust(left = 0.12,right = 0.96, bottom = 0.14, top = 0.86,wspace =0.45, hspace = 0.35)\n",
    "\n",
    "plt.show()\n",
    "\n"
   ]
  },
  {
   "cell_type": "markdown",
   "metadata": {},
   "source": [
    "So we see that the remaining particles in the box as a function of time varies as a damped exponential."
   ]
  },
  {
   "cell_type": "markdown",
   "metadata": {},
   "source": [
    "## Problem 3\n",
    "\n",
    "Calculate the integral"
   ]
  }
 ],
 "metadata": {
  "kernelspec": {
   "display_name": "Python 3",
   "language": "python",
   "name": "python3"
  },
  "language_info": {
   "codemirror_mode": {
    "name": "ipython",
    "version": 3
   },
   "file_extension": ".py",
   "mimetype": "text/x-python",
   "name": "python",
   "nbconvert_exporter": "python",
   "pygments_lexer": "ipython3",
   "version": "3.6.7"
  }
 },
 "nbformat": 4,
 "nbformat_minor": 2
}
