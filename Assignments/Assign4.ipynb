{
 "cells": [
  {
   "cell_type": "markdown",
   "metadata": {},
   "source": [
    "Assignment 4\n",
    "\n",
    "## GitHub User Name: aton-physics\n",
    "\n",
    "## Email: andrew_ton@brown.edu\n"
   ]
  },
  {
   "cell_type": "markdown",
   "metadata": {},
   "source": [
    "## Problem 1\n",
    "To convert the Schrodinger equation from second to first order, we trade the second order equation for two first order equations, given below.\n",
    "\n",
    "$\\frac{d\\psi}{dx} = \\phi$\n",
    "\n",
    "$\\frac{d\\phi}{dx} = \\frac{2m}{\\hbar^2}[V(x) - E]\\psi$\n",
    "\n",
    "We will solve this using the shooting method with a root finding algorithm to find the ground state energy and the next nine excited states.\n",
    "\n",
    "\n",
    "We use the potential $V(x) = V_o\\frac{x^2}{a^2}$ where $V_o = 50 eV, a = 10^{-11} m$\n",
    "\n",
    "I introduce the dimensionless parameter $\\xi = mV_o/(\\hbar^2a^2)$\n",
    "\n",
    "So the Schrodinger Equation may be expressed as $\\psi'' = 2\\xi(x^2 - \\frac{a^2}{V_o}E)\\psi$\n",
    "\n",
    "Giving $\\frac{d\\psi}{dx} = \\phi$\n",
    "\n",
    "$\\frac{d\\phi}{dx} = 2\\xi[V(x) - \\frac{a^2}{V_o}E]\\psi$"
   ]
  },
  {
   "cell_type": "code",
   "execution_count": 48,
   "metadata": {},
   "outputs": [],
   "source": [
    "%matplotlib inline\n",
    "import numpy as np\n",
    "from scipy.integrate import odeint\n",
    "import rootfinder as rtf\n",
    "import matplotlib.pyplot as plt\n",
    "from scipy.linalg import eigh"
   ]
  },
  {
   "cell_type": "code",
   "execution_count": 1,
   "metadata": {},
   "outputs": [],
   "source": [
    "class QM(object):\n",
    "    def __init__(self,E, npoints, x_start, x_end = 0, u0 = 0.0, v0 = 0.01):\n",
    "        self.E = E\n",
    "        self.npoints = npoints\n",
    "        self.uv0 = np.array([u0, v0]) # NumPy array with initial position and velocity\n",
    "       \n",
    "        # always want to start at furthest point and go to zero\n",
    "        self.xarray = np.linspace(x_start, x_end, npoints, endpoint = True) # include final timepoint\n",
    "\n",
    "    def scipy_trajectory(self):\n",
    "        \"\"\"calculate trajectory using SciPy ode integrator\"\"\"\n",
    "        self.uv = odeint(self.sch, self.uv0, self.xarray)\n",
    "        self.uv_end = self.uv[-1]\n",
    "\n",
    "\n",
    "    def sch(self, uv, x):\n",
    "    \n",
    "        \"\"\"right hand side of the differential equation\"\"\"\n",
    "        u = uv[1]\n",
    "        #v = 2*(self.Potential(x) - self.E)*uv[0]\n",
    "        a = 1.0e-11\n",
    "        V0 = 50\n",
    "        m = 9.1094e-31     # Mass of electron\n",
    "        hbar = 1.0546e-34  # Planck's constant over 2*pi\n",
    "        xi = m*V0/hbar**2/a**2\n",
    "        xi=1\n",
    "        v = 2*xi*(self.Potential(x) - a**2/V0*self.E)*uv[0]\n",
    "        #v = (2*m/hbar**2)*(self.Potential(x)-self.E)*uv[0]\n",
    "        return np.ravel(np.array([u, v]))\n",
    "\n",
    "    def Potential(self, x):\n",
    "        V0 = 50\n",
    "        a = 1.0e-11\n",
    "        #for next problem just add constant * x^4 right\n",
    "        return V0*x*x/a/a"
   ]
  },
  {
   "cell_type": "code",
   "execution_count": 64,
   "metadata": {},
   "outputs": [],
   "source": [
    "# the matching function\n",
    "def match(En):\n",
    "    #a = 1.0e-11\n",
    "    p_up = QM(E = En, npoints = 1000, x_start = -10)\n",
    "    p_down = QM(E = En, npoints = 1000, x_start = 10)\n",
    "    p_up.scipy_trajectory()\n",
    "    p_down.scipy_trajectory()\n",
    "    #print (p_down.uv_end[0],p_up.uv_end[1])\n",
    "    return p_down.uv_end[0]*p_up.uv_end[1] - p_down.uv_end[1]*p_up.uv_end[0]"
   ]
  },
  {
   "cell_type": "code",
   "execution_count": 80,
   "metadata": {},
   "outputs": [
    {
     "data": {
      "image/png": "[encoded data removed]",
      "text/plain": [
       "<Figure size 432x288 with 1 Axes>"
      ]
     },
     "metadata": {
      "needs_background": "light"
     },
     "output_type": "display_data"
    }
   ],
   "source": [
    "#a = 1.0e-11\n",
    "#E1 =  -10 # start Energy search at the well depth\n",
    "#dE = 0.01\n",
    "#npoints = 1000\n",
    "a = 1.0e-11\n",
    "V0=50\n",
    "E1 = 100\n",
    "dE = 0.01\n",
    "npoints = 1000\n",
    "\n",
    "E_SM = []\n",
    "\n",
    "fig = plt.figure()\n",
    "ax = fig.add_subplot(111)\n",
    "\n",
    "# Cut off after we have found a few states\n",
    "while (E1 < 200):\n",
    "    #print(match(E1))\n",
    "    if match(E1)*match(E1 + dE) < 0 :  # bracket E\n",
    "        # find the energy\n",
    "        E = rtf.bisect(match, E1, E1+dE, 1e-12)\n",
    "        print('Energy found: %.5f'%(E))\n",
    "        E_SM.append(E)\n",
    "        \n",
    "        dx = 16*a/npoints\n",
    "        # for plotting, must ensure overlap of left and right solutions \n",
    "        p_up = QM(E, npoints = npoints+4, x_start = -10, x_end = 0+4*dx)\n",
    "        p_down = QM(E, npoints = npoints-4, x_start = 10, x_end = 0+4*dx)\n",
    "        \n",
    "        p_up.scipy_trajectory()\n",
    "        p_down.scipy_trajectory()\n",
    "        \n",
    "        # scale factor\n",
    "        scale = p_up.uv_end[0]/p_down.uv_end[0]\n",
    "        \n",
    "        # full solution, combine up and down solutions\n",
    "        psi_x = np.concatenate((p_up.uv[:-1,0], scale*p_down.uv[::-1,0]))\n",
    "        xa = np.linspace(-10,10, 2*npoints-1, endpoint = True)\n",
    "        \n",
    "        # plot the scaled solution (not normalized), scale maximum to 1 for plotting purposes\n",
    "        ax.plot(xa, psi_x/max(psi_x), lw = 2, label = \"E = {:.3f}\".format(E))\n",
    "    #else : \n",
    "        #print(\"No bracket, increasing energy to\", E1+dE)\n",
    "    E1 += dE\n",
    "\n",
    "# plot the potential\n",
    "ax.plot(xa, np.vectorize(p_up.Potential)(xa)/10., color = 'k', lw =2)\n",
    "#ax.set_xlim([-8, 8])\n",
    "#ax.set_xlabel('x', fontsize = 14)\n",
    "#ax.set_ylabel('$\\psi$ (unnormalized)', fontsize = 14)\n",
    "#ax.legend(loc = 4, fontsize =10,numpoints = 1 )\n",
    "plt.show()"
   ]
  },
  {
   "cell_type": "markdown",
   "metadata": {},
   "source": [
    "part b) Add a quartic term $V(x) = V_ox^2/a^2 + V_o'x^4/a^4$ where $V_o' = 0.1V_o = 5 eV$\n",
    "\n",
    "Plot level number vs energy for both the harmonic and anharmonic oscillator on the same graph. How does energy vary with level number for each case?"
   ]
  },
  {
   "cell_type": "code",
   "execution_count": null,
   "metadata": {},
   "outputs": [],
   "source": []
  },
  {
   "cell_type": "markdown",
   "metadata": {},
   "source": [
    "part c) Calculate the wavefunctions of the anharmonic oscillator for the three lowest energy states and plot them all on the same axes as a function of x from -5a to 5a. Don't normalize - just scale."
   ]
  },
  {
   "cell_type": "code",
   "execution_count": null,
   "metadata": {},
   "outputs": [],
   "source": []
  },
  {
   "cell_type": "markdown",
   "metadata": {},
   "source": [
    "## Problem 2\n",
    "a) Use the Jacobi method, compute electric potential between infinitely long concentric square cylinders. Let cylinders have sides 5.0 and 25.0. Assume inner conductor is held at V = 1, outer at V = 0. Use grid spacing of 1. Make a contour plot of the potential and some 1-D slices across rows of the grid.\n"
   ]
  },
  {
   "cell_type": "code",
   "execution_count": null,
   "metadata": {},
   "outputs": [],
   "source": []
  },
  {
   "cell_type": "markdown",
   "metadata": {},
   "source": [
    "b) Compute electric potential and field for pt charge at center of a parallel plate capacitor in 2d. Make a contour plot of potential and field. Study how equipotential contours are affected by proximity of the charge to one of the capacitor plates."
   ]
  },
  {
   "cell_type": "code",
   "execution_count": null,
   "metadata": {},
   "outputs": [],
   "source": []
  }
 ],
 "metadata": {
  "kernelspec": {
   "display_name": "Python 3",
   "language": "python",
   "name": "python3"
  },
  "language_info": {
   "codemirror_mode": {
    "name": "ipython",
    "version": 3
   },
   "file_extension": ".py",
   "mimetype": "text/x-python",
   "name": "python",
   "nbconvert_exporter": "python",
   "pygments_lexer": "ipython3",
   "version": "3.6.7"
  }
 },
 "nbformat": 4,
 "nbformat_minor": 2
}
