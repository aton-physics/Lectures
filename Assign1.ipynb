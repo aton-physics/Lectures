{
 "cells": [
  {
   "cell_type": "markdown",
   "metadata": {},
   "source": [
    "## GitHub User Name: aton-physics\n",
    "\n",
    "## Email: andrew_ton@brown.edu\n",
    "\n",
    "This is my method for solving ODEs (possibly coupled) using RK4 integration"
   ]
  },
  {
   "cell_type": "code",
   "execution_count": 92,
   "metadata": {},
   "outputs": [],
   "source": [
    "import matplotlib.pyplot as plt # for plotting          \n",
    "import numpy as np\n",
    "#%matplotlib notebook  \n",
    "%matplotlib inline\n",
    "class DiffEQ (object):\n",
    "    #solves first order ODEs using an RK4 method\n",
    "    def __init__(self, a1=1.0, a2=1.0, x10 = 0.0, x20 = 0.0, t=0.0, tf = 10.0, dt = 0.01):\n",
    "        #solves dx/dt = ax\n",
    "        print(\"DiffEQ initialized\")\n",
    "        self.a1 = a1\n",
    "        self.a2 = a2\n",
    "        self.x1 = x10\n",
    "        self.x2 = x20\n",
    "        self.t = t\n",
    "        self.tf = tf\n",
    "        self.dt = 0.01\n",
    "        npoints = int(tf/dt)\n",
    "        print(\"a1 = {0:0.2f}, a2 = {1:0.2f}, x10 = {2:0.2f}, x20 = {3:0.2f}\".format(self.a1, self.a2, self.x1, self.x2))\n",
    "        self.npoints = npoints\n",
    "        self.tarray = np.linspace(0.0, tf,npoints, endpoint = True) # include final timepoint\n",
    "    def differential_equation(self, x1, x2, t):\n",
    "        result = self.a1*x1 + self.a2*x2\n",
    "        return result\n",
    "    def RK4_step(self):\n",
    "        k1 = self.dt*self.differential_equation(self.x1, 0, self.t)\n",
    "        k2 = self.dt*self.differential_equation(self.x1 + k1/2, 0, self.t + self.dt/2)\n",
    "        k3 = self.dt*self.differential_equation(self.x1 + k2/2, 0, self.t + self.dt/2)\n",
    "        k4 = self.dt*self.differential_equation(self.x1 + k3/2, 0, self.t + self.dt)\n",
    "        self.t += self.dt\n",
    "        self.x1 += (k1 + 2*k2 + 2*k3 + k4)/6\n",
    "    def RK4_couple(self):\n",
    "        k1 = self.dt*self.differential_equation(self.x1, 0, self.t)\n",
    "        k2 = self.dt*self.differential_equation(self.x1 + k1/2, 0, self.t + self.dt/2)\n",
    "        k3 = self.dt*self.differential_equation(self.x1 + k2/2, 0, self.t + self.dt/2)\n",
    "        k4 = self.dt*self.differential_equation(self.x1 + k3/2, 0, self.t + self.dt)\n",
    "        j1 = self.dt*self.differential_equation(self.x1, self.x2, self.t)\n",
    "        j2 = self.dt*self.differential_equation(self.x1, self.x2 + j1/2, self.t + self.dt/2)\n",
    "        j3 = self.dt*self.differential_equation(self.x1, self.x2 + j2/2, self.t + self.dt/2)\n",
    "        j4 = self.dt*self.differential_equation(self.x1, self.x2 + j3/2, self.t + self.dt)\n",
    "        self.t += self.dt\n",
    "        self.x1 += (k1 + 2*k2 + 2*k3 + k4)/6\n",
    "        self.x2 += (j1 + 2*j2 + 2*j3 + j4)/6\n",
    "    def trajectory(self, couple = \"no\"):\n",
    "        '''\n",
    "        Loop over time steps to generate a trajectory\n",
    "        \n",
    "        '''\n",
    "        x1_array = []\n",
    "        x2_array = []\n",
    "        \n",
    "        for ii in range(self.npoints):\n",
    "            x1_array.append(self.x1)\n",
    "            x2_array.append(self.x2)\n",
    "            #propagate in time using an Euler Method\n",
    "            if couple == \"no\":\n",
    "                self.RK4_step()\n",
    "            elif couple == \"yes\":\n",
    "                self.RK4_couple()\n",
    "            else:\n",
    "                print(\"bad argument\")\n",
    "        self.x1_array = np.array(x1_array)\n",
    "        self.x2_array = np.array(x2_array)\n",
    "    def plot(self, ExactSolution):\n",
    "        fig, ax = plt.subplots()\n",
    "        ax.plot(self.tarray, self.x1_array, label = \"numerical\")\n",
    "        ax.set(xlabel='time (s)', ylabel='population', title='RK4 integration of 1st order ODE')\n",
    "        ax.grid()\n",
    "        ax.plot(self.tarray, ExactSolution(self.tarray), label = \"exact\")\n",
    "        plt.legend()\n",
    "        fig.savefig(\"test.png\")\n",
    "        plt.show()\n",
    "    def plot_couple(self, ExactSolution1, ExactSolution2):\n",
    "        fig, ax = plt.subplots()\n",
    "        ax.plot(self.tarray, self.x1_array, label = \"numerical x1\")\n",
    "        ax.plot(self.tarray, self.x2_array, label = \"numerical x2\")\n",
    "        ax.set(xlabel='time (s)', ylabel='population', title='RK4 integration of 1st order ODE')\n",
    "        ax.grid()\n",
    "        ax.plot(self.tarray, ExactSolution1(self.tarray), label = \"exact x1\")\n",
    "        ax.plot(self.tarray, ExactSolution2(self.tarray), label = \"exact x2\")\n",
    "        plt.legend()\n",
    "        fig.savefig(\"test.png\")\n",
    "        plt.show()\n",
    "    def results(self):\n",
    "        \"\"\"\" \n",
    "        Method to display the results at a given final time\n",
    "        \"\"\"\n",
    "        \n",
    "        print('\\nPosition at Final Time:')\n",
    "        print('RK4:')\n",
    "        print('t = {0:0.2f} s | x = {1:0.3f} left'.format(self.t, self.x1))"
   ]
  },
  {
   "cell_type": "markdown",
   "metadata": {},
   "source": [
    "## Checking my algorithm works. \n",
    "\n",
    "Integrate dx/dt = -x with x(0) = 1. Exact solution is x(t) = 1*exp(-t)."
   ]
  },
  {
   "cell_type": "code",
   "execution_count": 67,
   "metadata": {},
   "outputs": [
    {
     "name": "stdout",
     "output_type": "stream",
     "text": [
      "DiffEQ initialized\n",
      "a1 = -1.00, a2 = 0.00, x10 = 1.00, x20 = 0.00\n",
      "\n",
      "Position at Final Time:\n",
      "RK4:\n",
      "t = 10.00 s | x = 0.000 left\n"
     ]
    },
    {
     "data": {
      "image/png": "[encoded data removed]",
      "text/plain": [
       "<Figure size 432x288 with 1 Axes>"
      ]
     },
     "metadata": {
      "needs_background": "light"
     },
     "output_type": "display_data"
    }
   ],
   "source": [
    "thing = DiffEQ(a1=-1.0, a2=0.0, x10 = 1.0)\n",
    "thing.trajectory()\n",
    "thing.results()\n",
    "def inverse_exp(arg):\n",
    "    return np.exp(-arg)\n",
    "thing.plot(inverse_exp)"
   ]
  },
  {
   "cell_type": "markdown",
   "metadata": {},
   "source": [
    "## It works! \n",
    "Let's begin with problem 1.\n",
    "\n",
    "## Problem 1\n",
    "a) The first order ODE we are to solve, given by analyzing the circuit, is:\n",
    "\n",
    "b) We solve this ODE and plot it for a square wave of amplitude and frequency 1. \n",
    "The square wave can be described as $$V(t) = A*sgn(\\sin(ft))$$\n",
    "Here we let A = f = 1 so\n",
    "$$V(t) = sgn(\\sin(t))$$\n",
    "\n",
    "c) Physically, the circuit is.."
   ]
  },
  {
   "cell_type": "markdown",
   "metadata": {},
   "source": [
    "## Problem 2\n",
    "The ODEs:\n",
    "$$\\frac{dN_A}{dt} = -\\frac{N_A}{\\tau_A}$$\n",
    "$$\\frac{dN_B}{dt} = \\frac{N_A}{\\tau_A} - \\frac{N_B}{\\tau_B}$$\n",
    "The analytical solutions:\n",
    "$$N_A(t) = N_A(0)e^{-\\frac{t}{\\tau_A}}$$\n",
    "$$N_B(T) = N_B(0)e^{-\\frac{t}{\\tau_B}} - N_A(0)\\frac{1}{1-\\frac{\\tau_A}{\\tau_B}}e^{-(\\frac{\\tau_A + \\tau_B}{\\tau_A\\tau_B})t}(e^{\\frac{t}{\\tau_B}}-e^{\\frac{t}{\\tau_A}})$$"
   ]
  },
  {
   "cell_type": "code",
   "execution_count": 95,
   "metadata": {},
   "outputs": [
    {
     "name": "stdout",
     "output_type": "stream",
     "text": [
      "DiffEQ initialized\n",
      "a1 = -100.00, a2 = -0.50, x10 = 1000.00, x20 = 1000.00\n",
      "\n",
      "Position at Final Time:\n",
      "RK4:\n",
      "t = 10.00 s | x = 0.000 left\n"
     ]
    },
    {
     "name": "stderr",
     "output_type": "stream",
     "text": [
      "/opt/conda/lib/python3.6/site-packages/ipykernel_launcher.py:11: RuntimeWarning: overflow encountered in exp\n",
      "  # This is added back by InteractiveShellApp.init_path()\n",
      "/opt/conda/lib/python3.6/site-packages/ipykernel_launcher.py:11: RuntimeWarning: invalid value encountered in multiply\n",
      "  # This is added back by InteractiveShellApp.init_path()\n"
     ]
    },
    {
     "data": {
      "image/png": "[encoded data removed]",
      "text/plain": [
       "<Figure size 432x288 with 1 Axes>"
      ]
     },
     "metadata": {
      "needs_background": "light"
     },
     "output_type": "display_data"
    }
   ],
   "source": [
    "tauA = -0.01 # -1*tauA gives the analytical tauA\n",
    "tauB = -2.0\n",
    "NA0 = 1000.0\n",
    "NB0 = 1000.0\n",
    "def zero(arg):\n",
    "    return 0.0\n",
    "def inverse_exp(arg, ic1 = NA0, param1 = -tauA):\n",
    "    return (1.0/ic1)*np.exp(-arg/param1)\n",
    "def complicated_exact(arg, ic1 = NA0, ic2 = NB0, param1 = -tauA, param2 = -tauB):\n",
    "    term1 = ic2*np.exp(-arg/param2)\n",
    "    term2 = ic1/(1-(param1/param2))*np.exp(-arg*(param1+param2)/(param1*param2))*(np.exp(arg/param2)-np.exp(arg/param1))\n",
    "    return term1 - term2\n",
    "thing = DiffEQ(a1=1.0/tauA, a2=1.0/tauB, x10 = NA0, x20 = NB0)\n",
    "thing.trajectory(\"yes\")\n",
    "thing.results()\n",
    "\n",
    "thing.plot_couple(inverse_exp, complicated_exact)"
   ]
  }
 ],
 "metadata": {
  "kernelspec": {
   "display_name": "Python 3",
   "language": "python",
   "name": "python3"
  },
  "language_info": {
   "codemirror_mode": {
    "name": "ipython",
    "version": 3
   },
   "file_extension": ".py",
   "mimetype": "text/x-python",
   "name": "python",
   "nbconvert_exporter": "python",
   "pygments_lexer": "ipython3",
   "version": "3.6.7"
  }
 },
 "nbformat": 4,
 "nbformat_minor": 2
}
