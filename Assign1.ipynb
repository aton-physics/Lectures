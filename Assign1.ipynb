{
 "cells": [
  {
   "cell_type": "code",
   "execution_count": 38,
   "metadata": {},
   "outputs": [],
   "source": [
    "import matplotlib.pyplot as plt # for plotting          \n",
    "import numpy as np\n",
    "%matplotlib notebook  \n",
    "class DiffEQ (object):\n",
    "    #solves first order ODEs using an RK4 method\n",
    "    def __init__(self, a=1.0, b=1.0, x0 = 0.0, t=0.0, tf = 10.0, dt = 0.01):\n",
    "        #solves dx/dt = ax\n",
    "        print(\"DiffEQ initialized\")\n",
    "        self.a = a\n",
    "        self.b = b\n",
    "        self.x = x0\n",
    "        self.t = t\n",
    "        self.tf = tf\n",
    "        self.dt = 0.01\n",
    "        npoints = int(tf/dt)\n",
    "        self.npoints = npoints\n",
    "        self.tarray = np.linspace(0.0, tf,npoints, endpoint = True) # include final timepoint\n",
    "    def differential_equation(self, x, t):\n",
    "        result = self.a*x\n",
    "        return result\n",
    "    def RK4_step(self):\n",
    "        k1 = self.dt*self.differential_equation(self.x, self.t)\n",
    "        k2 = self.dt*self.differential_equation(self.x + k1/2, self.t + self.dt/2)\n",
    "        k3 = self.dt*self.differential_equation(self.x + k2/2, self.t + self.dt/2)\n",
    "        k4 = self.dt*self.differential_equation(self.x + k3/2, self.t + self.dt)\n",
    "        self.t += self.dt\n",
    "        self.x += (k1 + 2*k2 + 2*k3 + k4)/6\n",
    "    def trajectory(self):\n",
    "        '''\n",
    "        Loop over time steps to generate a trajectory\n",
    "        \n",
    "        '''\n",
    "        x_array = []\n",
    "        \n",
    "        for ii in range(self.npoints):\n",
    "            x_array.append(self.x)\n",
    "            #propagate in time using an Euler Method\n",
    "            self.RK4_step()\n",
    "        self.x_array = np.array(x_array)\n",
    "    def results(self):\n",
    "        \"\"\"\" \n",
    "        Method to display the results at a given final time\n",
    "        \"\"\"\n",
    "        \n",
    "        print('\\nPosition at Final Time:')\n",
    "        print('RK4:')\n",
    "        print('t = {0:0.2f} s | x = {1:0.3f} left'.format(self.t, self.x))"
   ]
  },
  {
   "cell_type": "code",
   "execution_count": 39,
   "metadata": {},
   "outputs": [
    {
     "name": "stdout",
     "output_type": "stream",
     "text": [
      "DiffEQ initialized\n",
      "\n",
      "Position at Final Time:\n",
      "RK4:\n",
      "t = 10.00 s | x = 0.000 left\n"
     ]
    }
   ],
   "source": [
    "thing = DiffEQ(a=-1.0, x0 = 10)\n",
    "thing.trajectory()\n",
    "thing.results()"
   ]
  }
 ],
 "metadata": {
  "kernelspec": {
   "display_name": "Python 3",
   "language": "python",
   "name": "python3"
  },
  "language_info": {
   "codemirror_mode": {
    "name": "ipython",
    "version": 3
   },
   "file_extension": ".py",
   "mimetype": "text/x-python",
   "name": "python",
   "nbconvert_exporter": "python",
   "pygments_lexer": "ipython3",
   "version": "3.6.7"
  }
 },
 "nbformat": 4,
 "nbformat_minor": 2
}
